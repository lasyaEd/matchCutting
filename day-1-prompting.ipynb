{
 "cells": [
  {
   "cell_type": "markdown",
   "id": "c9c65d05",
   "metadata": {
    "id": "jkxRSYjzA1oX",
    "papermill": {
     "duration": 0.014513,
     "end_time": "2024-11-12T19:35:37.056540",
     "exception": false,
     "start_time": "2024-11-12T19:35:37.042027",
     "status": "completed"
    },
    "tags": []
   },
   "source": [
    "##### Copyright 2024 Google LLC."
   ]
  },
  {
   "cell_type": "code",
   "execution_count": 1,
   "id": "f83bc729",
   "metadata": {
    "cellView": "form",
    "execution": {
     "iopub.execute_input": "2024-11-12T19:35:37.085721Z",
     "iopub.status.busy": "2024-11-12T19:35:37.085312Z",
     "iopub.status.idle": "2024-11-12T19:35:37.091079Z",
     "shell.execute_reply": "2024-11-12T19:35:37.090018Z"
    },
    "id": "5u5OZ2ShA3BA",
    "jupyter": {
     "source_hidden": true
    },
    "papermill": {
     "duration": 0.023708,
     "end_time": "2024-11-12T19:35:37.093452",
     "exception": false,
     "start_time": "2024-11-12T19:35:37.069744",
     "status": "completed"
    },
    "tags": []
   },
   "outputs": [],
   "source": [
    "# @title Licensed under the Apache License, Version 2.0 (the \"License\");\n",
    "# you may not use this file except in compliance with the License.\n",
    "# You may obtain a copy of the License at\n",
    "#\n",
    "# https://www.apache.org/licenses/LICENSE-2.0\n",
    "#\n",
    "# Unless required by applicable law or agreed to in writing, software\n",
    "# distributed under the License is distributed on an \"AS IS\" BASIS,\n",
    "# WITHOUT WARRANTIES OR CONDITIONS OF ANY KIND, either express or implied.\n",
    "# See the License for the specific language governing permissions and\n",
    "# limitations under the License."
   ]
  },
  {
   "cell_type": "markdown",
   "id": "d4e619d8",
   "metadata": {
    "id": "csNPnkuCobmG",
    "papermill": {
     "duration": 0.013215,
     "end_time": "2024-11-12T19:35:37.120171",
     "exception": false,
     "start_time": "2024-11-12T19:35:37.106956",
     "status": "completed"
    },
    "tags": []
   },
   "source": [
    "# Day 1 - Prompting\n",
    "\n",
    "Welcome to the Kaggle 5-day Generative AI course!\n",
    "\n",
    "This notebook will show you how to get started with the Gemini API and walk you through some of the example prompts and techniques that you can also read about in the Prompting whitepaper. You don't need to read the whitepaper to use this notebook, but the papers will give you some theoretical context and background to complement this interactive notebook.\n",
    "\n",
    "\n",
    "## Before you begin\n",
    "\n",
    "In this notebook, you'll start exploring prompts and prompt parameters using the Python SDK and AI Studio. For some inspiration, you might enjoy exploring some apps that have been built using the Gemini family of models. Here are a few that we like, and we think you will too.\n",
    "\n",
    "* [TextFX](https://textfx.withgoogle.com/) is a suite of AI-powered tools for rappers, made in collaboration with Lupe Fiasco,\n",
    "* [SQL Talk](https://sql-talk-r5gdynozbq-uc.a.run.app/) shows how you can talk directly to a database using the Gemini API,\n",
    "* [NotebookLM](https://notebooklm.google/) uses Gemini models to build your own personal AI research assistant.\n",
    "\n",
    "\n",
    "## For help\n",
    "\n",
    "**Common issues are covered in the [FAQ and troubleshooting guide](https://www.kaggle.com/code/markishere/day-0-troubleshooting-and-faqs).**\n",
    "\n",
    "### A note on the Gemini API and Vertex AI\n",
    "\n",
    "In the whitepapers, most of the example code uses the Enterprise [Vertex AI platform](https://cloud.google.com/vertex-ai). In contrast, this notebook, along with the others in this series, will use the [Gemini Developer API](https://ai.google.dev/gemini-api/) and [AI Studio](https://aistudio.google.com/).\n",
    "\n",
    "Both APIs provide access to the Gemini family of models, and the code to interact with the models is very similar. Vertex provides a world-class platform for enterprises, governments and advanced users that need powerful features like data governance, ML ops and deep Google Cloud integration.\n",
    "\n",
    "AI Studio is free to use and only requires a compatible Google account to log in and get started. It is deeply integrated with the Gemini API, which comes with a generous [free tier](https://ai.google.dev/pricing) that you can use to run the code in these exercises.\n",
    "\n",
    "If you are already set up with Google Cloud, you can check out the [Enterprise Gemini API](https://cloud.google.com/vertex-ai/generative-ai/docs/model-reference/inference) through Vertex AI, and run the samples directly from the supplied whitepapers."
   ]
  },
  {
   "cell_type": "markdown",
   "id": "abb2b6a4",
   "metadata": {
    "id": "f00ea7c99e44",
    "papermill": {
     "duration": 0.01312,
     "end_time": "2024-11-12T19:35:37.147235",
     "exception": false,
     "start_time": "2024-11-12T19:35:37.134115",
     "status": "completed"
    },
    "tags": []
   },
   "source": [
    "## Get started with Kaggle notebooks\n",
    "\n",
    "If this is your first time using a Kaggle notebook, welcome! You can read about how to use Kaggle notebooks [in the docs](https://www.kaggle.com/docs/notebooks).\n",
    "\n",
    "First, you will need to phone verify your account at kaggle.com/settings.\n",
    "\n",
    "![](https://storage.googleapis.com/kaggle-media/Images/5dgai_0.png)"
   ]
  },
  {
   "cell_type": "markdown",
   "id": "7dbf0ba4",
   "metadata": {
    "papermill": {
     "duration": 0.012772,
     "end_time": "2024-11-12T19:35:37.173076",
     "exception": false,
     "start_time": "2024-11-12T19:35:37.160304",
     "status": "completed"
    },
    "tags": []
   },
   "source": [
    "To run this notebook, as well as the others in this course, you will need to make a copy, or fork, the notebook. Look for the `Copy and Edit` button in the top-right, and **click it** to make an editable, private copy of the notebook. It should look like this one:\n",
    "\n",
    "![Copy and Edit button](https://storage.googleapis.com/kaggle-media/Images/5gdai_sc_1.png)\n",
    "\n",
    "Your copy will now have a ▶️ **Run** button next to each code cell that you can press to execute that cell. These notebooks are expected to be run in order from top-to-bottom, but you are encouraged to add new cells, run your own code and explore. If you get stuck, you can try the `Factory reset` option in the `Run` menu, or head back to the original notebook and make a fresh copy.\n",
    "\n",
    "![Run cell button](https://storage.googleapis.com/kaggle-media/Images/5gdai_sc_2.png)\n",
    "\n",
    "### Problems?\n",
    "\n",
    "If you have any problems, head over to the [Kaggle Discord](https://discord.com/invite/kaggle), find the [`#5dgai-q-and-a` channel](https://discord.com/channels/1101210829807956100/1303438695143178251) and ask for help."
   ]
  },
  {
   "cell_type": "markdown",
   "id": "d2da71ed",
   "metadata": {
    "id": "ExkOXcPxtTb5",
    "papermill": {
     "duration": 0.013269,
     "end_time": "2024-11-12T19:35:37.199295",
     "exception": false,
     "start_time": "2024-11-12T19:35:37.186026",
     "status": "completed"
    },
    "tags": []
   },
   "source": [
    "## Get started with the Gemini API\n",
    "\n",
    "All of the exercises in this notebook will use the [Gemini API](https://ai.google.dev/gemini-api/) by way of the [Python SDK](https://pypi.org/project/google-generativeai/). Each of these prompts can be accessed directly in [Google AI Studio](https://aistudio.google.com/) too, so if you would rather use a web interface and skip the code for this activity, look for the <img src=\"https://ai.google.dev/site-assets/images/marketing/home/icon-ais.png\" style=\"height: 24px\" height=24/> AI Studio link on each prompt."
   ]
  },
  {
   "cell_type": "markdown",
   "id": "c7afc69c",
   "metadata": {
    "papermill": {
     "duration": 0.012823,
     "end_time": "2024-11-12T19:35:37.225589",
     "exception": false,
     "start_time": "2024-11-12T19:35:37.212766",
     "status": "completed"
    },
    "tags": []
   },
   "source": [
    "Next, you will need to add your API key to your Kaggle Notebook as a Kaggle User Secret.\n",
    "\n",
    "![](https://storage.googleapis.com/kaggle-media/Images/5dgai_1.png)\n",
    "![](https://storage.googleapis.com/kaggle-media/Images/5dgai_2.png)\n",
    "![](https://storage.googleapis.com/kaggle-media/Images/5dgai_3.png)\n",
    "![](https://storage.googleapis.com/kaggle-media/Images/5dgai_4.png)"
   ]
  },
  {
   "cell_type": "markdown",
   "id": "0f9062a6",
   "metadata": {
    "id": "UAjUV3BsvFXQ",
    "papermill": {
     "duration": 0.013303,
     "end_time": "2024-11-12T19:35:37.251993",
     "exception": false,
     "start_time": "2024-11-12T19:35:37.238690",
     "status": "completed"
    },
    "tags": []
   },
   "source": [
    "### Install the SDK"
   ]
  },
  {
   "cell_type": "code",
   "execution_count": 2,
   "id": "15f32fdd",
   "metadata": {
    "execution": {
     "iopub.execute_input": "2024-11-12T19:35:37.280149Z",
     "iopub.status.busy": "2024-11-12T19:35:37.279249Z",
     "iopub.status.idle": "2024-11-12T19:36:16.512637Z",
     "shell.execute_reply": "2024-11-12T19:36:16.511097Z"
    },
    "id": "NzwzJFU9LqkJ",
    "papermill": {
     "duration": 39.263955,
     "end_time": "2024-11-12T19:36:16.528902",
     "exception": false,
     "start_time": "2024-11-12T19:35:37.264947",
     "status": "completed"
    },
    "tags": []
   },
   "outputs": [
    {
     "name": "stdout",
     "output_type": "stream",
     "text": [
      "Note: you may need to restart the kernel to use updated packages.\n"
     ]
    }
   ],
   "source": [
    "%pip install -U -q \"google-generativeai>=0.8.3\""
   ]
  },
  {
   "cell_type": "code",
   "execution_count": 3,
   "id": "166d2e10",
   "metadata": {
    "execution": {
     "iopub.execute_input": "2024-11-12T19:36:16.558198Z",
     "iopub.status.busy": "2024-11-12T19:36:16.557764Z",
     "iopub.status.idle": "2024-11-12T19:36:17.925443Z",
     "shell.execute_reply": "2024-11-12T19:36:17.924214Z"
    },
    "id": "5DwxYIRavMST",
    "papermill": {
     "duration": 1.385238,
     "end_time": "2024-11-12T19:36:17.928080",
     "exception": false,
     "start_time": "2024-11-12T19:36:16.542842",
     "status": "completed"
    },
    "tags": []
   },
   "outputs": [],
   "source": [
    "import google.generativeai as genai\n",
    "from IPython.display import HTML, Markdown, display"
   ]
  },
  {
   "cell_type": "markdown",
   "id": "f50cd98c",
   "metadata": {
    "id": "DNEt2BCOvOJ1",
    "papermill": {
     "duration": 0.012754,
     "end_time": "2024-11-12T19:36:17.953958",
     "exception": false,
     "start_time": "2024-11-12T19:36:17.941204",
     "status": "completed"
    },
    "tags": []
   },
   "source": [
    "### Set up your API key\n",
    "\n",
    "To run the following cell, your API key must be stored it in a [Kaggle secret](https://www.kaggle.com/discussions/product-feedback/114053) named `GOOGLE_API_KEY`.\n",
    "\n",
    "If you don't already have an API key, you can grab one from [AI Studio](https://aistudio.google.com/app/apikey). You can find [detailed instructions in the docs](https://ai.google.dev/gemini-api/docs/api-key).\n",
    "\n",
    "To make the key available through Kaggle secrets, choose `Secrets` from the `Add-ons` menu and follow the instructions to add your key or enable it for this notebook."
   ]
  },
  {
   "cell_type": "code",
   "execution_count": 4,
   "id": "5abea2ff",
   "metadata": {
    "execution": {
     "iopub.execute_input": "2024-11-12T19:36:17.983026Z",
     "iopub.status.busy": "2024-11-12T19:36:17.982141Z",
     "iopub.status.idle": "2024-11-12T19:36:18.081370Z",
     "shell.execute_reply": "2024-11-12T19:36:18.079770Z"
    },
    "id": "SHl0bkPCvayd",
    "papermill": {
     "duration": 0.117009,
     "end_time": "2024-11-12T19:36:18.084091",
     "exception": false,
     "start_time": "2024-11-12T19:36:17.967082",
     "status": "completed"
    },
    "tags": []
   },
   "outputs": [],
   "source": [
    "from kaggle_secrets import UserSecretsClient\n",
    "\n",
    "GOOGLE_API_KEY = UserSecretsClient().get_secret(\"GOOGLE_API_KEY\")\n",
    "genai.configure(api_key=GOOGLE_API_KEY)"
   ]
  },
  {
   "cell_type": "markdown",
   "id": "5f7fcefd",
   "metadata": {
    "id": "4e720472fd86",
    "papermill": {
     "duration": 0.013284,
     "end_time": "2024-11-12T19:36:18.111174",
     "exception": false,
     "start_time": "2024-11-12T19:36:18.097890",
     "status": "completed"
    },
    "tags": []
   },
   "source": [
    "If you received an error response along the lines of `No user secrets exist for kernel id ...`, then you need to add your API key via `Add-ons`, `Secrets` **and** enable it.\n",
    "\n",
    "![Screenshot of the checkbox to enable GOOGLE_API_KEY secret](https://storage.googleapis.com/kaggle-media/Images/5gdai_sc_3.png)"
   ]
  },
  {
   "cell_type": "markdown",
   "id": "7de73144",
   "metadata": {
    "id": "H_YXCYIKvyZJ",
    "papermill": {
     "duration": 0.013828,
     "end_time": "2024-11-12T19:36:18.138441",
     "exception": false,
     "start_time": "2024-11-12T19:36:18.124613",
     "status": "completed"
    },
    "tags": []
   },
   "source": [
    "### Run your first prompt\n",
    "\n",
    "In this step, you will test that your API key is set up correctly by making a request. The `gemini-1.5-flash` model has been selected here."
   ]
  },
  {
   "cell_type": "code",
   "execution_count": 5,
   "id": "8085e447",
   "metadata": {
    "execution": {
     "iopub.execute_input": "2024-11-12T19:36:18.167619Z",
     "iopub.status.busy": "2024-11-12T19:36:18.167185Z",
     "iopub.status.idle": "2024-11-12T19:36:19.945087Z",
     "shell.execute_reply": "2024-11-12T19:36:19.943781Z"
    },
    "id": "BV1o0PmcvyJF",
    "papermill": {
     "duration": 1.796293,
     "end_time": "2024-11-12T19:36:19.947829",
     "exception": false,
     "start_time": "2024-11-12T19:36:18.151536",
     "status": "completed"
    },
    "tags": []
   },
   "outputs": [
    {
     "name": "stdout",
     "output_type": "stream",
     "text": [
      "Imagine you have a really smart robot friend. This robot friend can learn from all the things it sees and hears, just like you! \n",
      "\n",
      "It can learn to:\n",
      "\n",
      "* **Recognize pictures:**  Show it a picture of a cat, and it can tell you it's a cat.\n",
      "* **Understand your words:** You can talk to it, and it can understand what you're saying.\n",
      "* **Play games:** It can even learn how to play games like chess or checkers and get better at them over time.\n",
      "\n",
      "This robot friend is kind of like **Artificial Intelligence (AI)**. It's a way of making computers smart and able to do things that normally only humans can do. \n",
      "\n",
      "AI is still learning and growing, just like you are. It's helping us do all sorts of cool things, like:\n",
      "\n",
      "* **Make robots do our chores:** Imagine a robot that can clean your room or wash the dishes!\n",
      "* **Help doctors diagnose diseases:** AI can look at medical scans and help doctors find problems.\n",
      "* **Make self-driving cars:** AI can help cars drive themselves safely.\n",
      "\n",
      "AI is super exciting and powerful, and it's only going to get even better in the future! \n",
      "\n"
     ]
    }
   ],
   "source": [
    "flash = genai.GenerativeModel('gemini-1.5-flash')\n",
    "response = flash.generate_content(\"Explain AI to me like I'm a kid.\")\n",
    "print(response.text)"
   ]
  },
  {
   "cell_type": "markdown",
   "id": "1215bf3e",
   "metadata": {
    "id": "f60ed9d8ae41",
    "papermill": {
     "duration": 0.014378,
     "end_time": "2024-11-12T19:36:19.975850",
     "exception": false,
     "start_time": "2024-11-12T19:36:19.961472",
     "status": "completed"
    },
    "tags": []
   },
   "source": [
    "The response often comes back in markdown format, which you can render directly in this notebook."
   ]
  },
  {
   "cell_type": "code",
   "execution_count": 6,
   "id": "828ed34d",
   "metadata": {
    "execution": {
     "iopub.execute_input": "2024-11-12T19:36:20.005762Z",
     "iopub.status.busy": "2024-11-12T19:36:20.005310Z",
     "iopub.status.idle": "2024-11-12T19:36:20.015476Z",
     "shell.execute_reply": "2024-11-12T19:36:20.014162Z"
    },
    "id": "c933e5e460a5",
    "papermill": {
     "duration": 0.028862,
     "end_time": "2024-11-12T19:36:20.018202",
     "exception": false,
     "start_time": "2024-11-12T19:36:19.989340",
     "status": "completed"
    },
    "tags": []
   },
   "outputs": [
    {
     "data": {
      "text/markdown": [
       "Imagine you have a really smart robot friend. This robot friend can learn from all the things it sees and hears, just like you! \n",
       "\n",
       "It can learn to:\n",
       "\n",
       "* **Recognize pictures:**  Show it a picture of a cat, and it can tell you it's a cat.\n",
       "* **Understand your words:** You can talk to it, and it can understand what you're saying.\n",
       "* **Play games:** It can even learn how to play games like chess or checkers and get better at them over time.\n",
       "\n",
       "This robot friend is kind of like **Artificial Intelligence (AI)**. It's a way of making computers smart and able to do things that normally only humans can do. \n",
       "\n",
       "AI is still learning and growing, just like you are. It's helping us do all sorts of cool things, like:\n",
       "\n",
       "* **Make robots do our chores:** Imagine a robot that can clean your room or wash the dishes!\n",
       "* **Help doctors diagnose diseases:** AI can look at medical scans and help doctors find problems.\n",
       "* **Make self-driving cars:** AI can help cars drive themselves safely.\n",
       "\n",
       "AI is super exciting and powerful, and it's only going to get even better in the future! \n"
      ],
      "text/plain": [
       "<IPython.core.display.Markdown object>"
      ]
     },
     "execution_count": 6,
     "metadata": {},
     "output_type": "execute_result"
    }
   ],
   "source": [
    "Markdown(response.text)"
   ]
  },
  {
   "cell_type": "markdown",
   "id": "b36c79b4",
   "metadata": {
    "id": "byx0pT9ZMW2Q",
    "papermill": {
     "duration": 0.014496,
     "end_time": "2024-11-12T19:36:20.047209",
     "exception": false,
     "start_time": "2024-11-12T19:36:20.032713",
     "status": "completed"
    },
    "tags": []
   },
   "source": [
    "### Start a chat\n",
    "\n",
    "The previous example uses a single-turn, text-in/text-out structure, but you can also set up a multi-turn chat structure too."
   ]
  },
  {
   "cell_type": "code",
   "execution_count": 7,
   "id": "531e7918",
   "metadata": {
    "execution": {
     "iopub.execute_input": "2024-11-12T19:36:20.082928Z",
     "iopub.status.busy": "2024-11-12T19:36:20.082324Z",
     "iopub.status.idle": "2024-11-12T19:36:20.469730Z",
     "shell.execute_reply": "2024-11-12T19:36:20.468020Z"
    },
    "id": "lV_S5ZL5MidD",
    "papermill": {
     "duration": 0.408682,
     "end_time": "2024-11-12T19:36:20.472632",
     "exception": false,
     "start_time": "2024-11-12T19:36:20.063950",
     "status": "completed"
    },
    "tags": []
   },
   "outputs": [
    {
     "name": "stdout",
     "output_type": "stream",
     "text": [
      "Hello Lasya! It's nice to meet you. 😄  What can I do for you today? 😊 \n",
      "\n"
     ]
    }
   ],
   "source": [
    "chat = flash.start_chat(history=[])\n",
    "response = chat.send_message('Hello! My name is Lasya.')\n",
    "print(response.text)"
   ]
  },
  {
   "cell_type": "code",
   "execution_count": 8,
   "id": "248a5e88",
   "metadata": {
    "execution": {
     "iopub.execute_input": "2024-11-12T19:36:20.504010Z",
     "iopub.status.busy": "2024-11-12T19:36:20.503608Z",
     "iopub.status.idle": "2024-11-12T19:36:21.342852Z",
     "shell.execute_reply": "2024-11-12T19:36:21.341447Z"
    },
    "id": "7b0372c3c64a",
    "papermill": {
     "duration": 0.85941,
     "end_time": "2024-11-12T19:36:21.346352",
     "exception": false,
     "start_time": "2024-11-12T19:36:20.486942",
     "status": "completed"
    },
    "tags": []
   },
   "outputs": [
    {
     "name": "stdout",
     "output_type": "stream",
     "text": [
      "Okay, Lasya, here's something interesting about dinosaurs:\n",
      "\n",
      "**Did you know that some dinosaurs had feathers?** \n",
      "\n",
      "That's right!  While we often picture dinosaurs as scaly, like lizards, many species, especially the smaller, bird-like ones, actually had feathers.  Scientists have found fossils with clear evidence of feathers, and some even had feathers that were colorful and patterned.  This discovery helps us understand how birds evolved from dinosaurs. \n",
      "\n",
      "What do you think about that? Would you like to hear more about dinosaurs? 🤔 \n",
      "\n"
     ]
    }
   ],
   "source": [
    "response = chat.send_message('Can you tell something interesting about dinosaurs?')\n",
    "print(response.text)"
   ]
  },
  {
   "cell_type": "code",
   "execution_count": 9,
   "id": "208d99d7",
   "metadata": {
    "execution": {
     "iopub.execute_input": "2024-11-12T19:36:21.376973Z",
     "iopub.status.busy": "2024-11-12T19:36:21.376548Z",
     "iopub.status.idle": "2024-11-12T19:36:21.918109Z",
     "shell.execute_reply": "2024-11-12T19:36:21.916774Z"
    },
    "id": "d3f9591392a7",
    "papermill": {
     "duration": 0.559764,
     "end_time": "2024-11-12T19:36:21.920972",
     "exception": false,
     "start_time": "2024-11-12T19:36:21.361208",
     "status": "completed"
    },
    "tags": []
   },
   "outputs": [
    {
     "name": "stdout",
     "output_type": "stream",
     "text": [
      "Of course I remember!  You're Lasya. 😊  I'm still learning, but I try my best to remember the names of the people I talk to.  It's important to me to be polite and friendly.  \n",
      "\n",
      "Is there anything else I can help you with? \n",
      "\n"
     ]
    }
   ],
   "source": [
    "# While you have the `chat` object around, the conversation state\n",
    "# persists. Confirm that by asking if it knows my name.\n",
    "response = chat.send_message('Do you remember what my name is?')\n",
    "print(response.text)"
   ]
  },
  {
   "cell_type": "markdown",
   "id": "38f855b8",
   "metadata": {
    "id": "2KAjpr1200sW",
    "papermill": {
     "duration": 0.01475,
     "end_time": "2024-11-12T19:36:21.949734",
     "exception": false,
     "start_time": "2024-11-12T19:36:21.934984",
     "status": "completed"
    },
    "tags": []
   },
   "source": [
    "### Choose a model\n",
    "\n",
    "The Gemini API provides access to a number of models from the Gemini model family. Read about the available models and their capabilities on the [model overview page](https://ai.google.dev/gemini-api/docs/models/gemini).\n",
    "\n",
    "In this step you'll use the API to list all of the available models."
   ]
  },
  {
   "cell_type": "code",
   "execution_count": 10,
   "id": "cb2bd909",
   "metadata": {
    "execution": {
     "iopub.execute_input": "2024-11-12T19:36:21.979315Z",
     "iopub.status.busy": "2024-11-12T19:36:21.978874Z",
     "iopub.status.idle": "2024-11-12T19:36:22.056357Z",
     "shell.execute_reply": "2024-11-12T19:36:22.055015Z"
    },
    "id": "uUUZa2uq2jDm",
    "papermill": {
     "duration": 0.095497,
     "end_time": "2024-11-12T19:36:22.059223",
     "exception": false,
     "start_time": "2024-11-12T19:36:21.963726",
     "status": "completed"
    },
    "tags": []
   },
   "outputs": [
    {
     "name": "stdout",
     "output_type": "stream",
     "text": [
      "models/chat-bison-001\n",
      "models/text-bison-001\n",
      "models/embedding-gecko-001\n",
      "models/gemini-1.0-pro-latest\n",
      "models/gemini-1.0-pro\n",
      "models/gemini-pro\n",
      "models/gemini-1.0-pro-001\n",
      "models/gemini-1.0-pro-vision-latest\n",
      "models/gemini-pro-vision\n",
      "models/gemini-1.5-pro-latest\n",
      "models/gemini-1.5-pro-001\n",
      "models/gemini-1.5-pro-002\n",
      "models/gemini-1.5-pro\n",
      "models/gemini-1.5-pro-exp-0801\n",
      "models/gemini-1.5-pro-exp-0827\n",
      "models/gemini-1.5-flash-latest\n",
      "models/gemini-1.5-flash-001\n",
      "models/gemini-1.5-flash-001-tuning\n",
      "models/gemini-1.5-flash\n",
      "models/gemini-1.5-flash-exp-0827\n",
      "models/gemini-1.5-flash-002\n",
      "models/gemini-1.5-flash-8b\n",
      "models/gemini-1.5-flash-8b-001\n",
      "models/gemini-1.5-flash-8b-latest\n",
      "models/gemini-1.5-flash-8b-exp-0827\n",
      "models/gemini-1.5-flash-8b-exp-0924\n",
      "models/embedding-001\n",
      "models/text-embedding-004\n",
      "models/aqa\n"
     ]
    }
   ],
   "source": [
    "for model in genai.list_models():\n",
    "  print(model.name)"
   ]
  },
  {
   "cell_type": "markdown",
   "id": "db8ab823",
   "metadata": {
    "id": "rN49kSI54R1v",
    "papermill": {
     "duration": 0.014243,
     "end_time": "2024-11-12T19:36:22.087552",
     "exception": false,
     "start_time": "2024-11-12T19:36:22.073309",
     "status": "completed"
    },
    "tags": []
   },
   "source": [
    "The [`models.list`](https://ai.google.dev/api/models#method:-models.list) response also returns additional information about the model's capabilities, like the token limits and supported parameters."
   ]
  },
  {
   "cell_type": "code",
   "execution_count": 11,
   "id": "198f71ab",
   "metadata": {
    "execution": {
     "iopub.execute_input": "2024-11-12T19:36:22.119479Z",
     "iopub.status.busy": "2024-11-12T19:36:22.119022Z",
     "iopub.status.idle": "2024-11-12T19:36:22.161571Z",
     "shell.execute_reply": "2024-11-12T19:36:22.160200Z"
    },
    "id": "k7JJ1K6j4Rl8",
    "papermill": {
     "duration": 0.061558,
     "end_time": "2024-11-12T19:36:22.164321",
     "exception": false,
     "start_time": "2024-11-12T19:36:22.102763",
     "status": "completed"
    },
    "tags": []
   },
   "outputs": [
    {
     "name": "stdout",
     "output_type": "stream",
     "text": [
      "Model(name='models/gemini-1.5-flash',\n",
      "      base_model_id='',\n",
      "      version='001',\n",
      "      display_name='Gemini 1.5 Flash',\n",
      "      description='Fast and versatile multimodal model for scaling across diverse tasks',\n",
      "      input_token_limit=1000000,\n",
      "      output_token_limit=8192,\n",
      "      supported_generation_methods=['generateContent', 'countTokens'],\n",
      "      temperature=1.0,\n",
      "      max_temperature=2.0,\n",
      "      top_p=0.95,\n",
      "      top_k=40)\n"
     ]
    }
   ],
   "source": [
    "for model in genai.list_models():\n",
    "  if model.name == 'models/gemini-1.5-flash':\n",
    "    print(model)\n",
    "    break"
   ]
  },
  {
   "cell_type": "markdown",
   "id": "fc12130b",
   "metadata": {
    "id": "5rU_UBlZdooM",
    "papermill": {
     "duration": 0.013914,
     "end_time": "2024-11-12T19:36:22.192195",
     "exception": false,
     "start_time": "2024-11-12T19:36:22.178281",
     "status": "completed"
    },
    "tags": []
   },
   "source": [
    "## Explore generation parameters\n",
    "\n"
   ]
  },
  {
   "cell_type": "markdown",
   "id": "64f43703",
   "metadata": {
    "id": "G7NfEizeipbW",
    "papermill": {
     "duration": 0.013825,
     "end_time": "2024-11-12T19:36:22.221064",
     "exception": false,
     "start_time": "2024-11-12T19:36:22.207239",
     "status": "completed"
    },
    "tags": []
   },
   "source": [
    "### Output length\n",
    "\n",
    "When generating text with an LLM, the output length affects cost and performance. Generating more tokens increases computation, leading to higher energy consumption, latency, and cost.\n",
    "\n",
    "To stop the model from generating tokens past a limit, you can specify the `max_output_length` parameter when using the Gemini API. Specifying this parameter does not influence the generation of the output tokens, so the output will not become more stylistically or textually succinct, but it will stop generating tokens once the specified length is reached. Prompt engineering may be required to generate a more complete output for your given limit."
   ]
  },
  {
   "cell_type": "code",
   "execution_count": 12,
   "id": "2fde7a14",
   "metadata": {
    "execution": {
     "iopub.execute_input": "2024-11-12T19:36:22.251860Z",
     "iopub.status.busy": "2024-11-12T19:36:22.251434Z",
     "iopub.status.idle": "2024-11-12T19:36:23.350726Z",
     "shell.execute_reply": "2024-11-12T19:36:23.349277Z"
    },
    "id": "qVf23JsIi9ma",
    "papermill": {
     "duration": 1.11806,
     "end_time": "2024-11-12T19:36:23.353682",
     "exception": false,
     "start_time": "2024-11-12T19:36:22.235622",
     "status": "completed"
    },
    "tags": []
   },
   "outputs": [
    {
     "name": "stdout",
     "output_type": "stream",
     "text": [
      "## The Enduring Legacy of the Olive: A Vital Component of Modern Society\n",
      "\n",
      "The olive, a small, unassuming fruit, has a history as rich and varied as its flavor. Its journey through time has taken it from the ancient groves of the Mediterranean to the bustling supermarkets of the modern world, a journey that has solidified its place as a vital component of human society. From its nutritional value and culinary versatility to its economic impact and cultural significance, the olive continues to play a crucial role in shaping our lives today.\n",
      "\n",
      "**A Nutritional Powerhouse:** The olive's journey from fruit to table begins with a bounty of nutritional benefits. Its high content of monounsaturated fats, particularly oleic acid, has been linked to a reduction in heart disease risk, improved cholesterol levels, and even potential anti-cancer properties. Olives are also rich in antioxidants, vitamin E, and various minerals, contributing to overall health and well-being. This nutritional profile makes olives a valuable component of a balanced diet\n"
     ]
    }
   ],
   "source": [
    "short_model = genai.GenerativeModel(\n",
    "    'gemini-1.5-flash',\n",
    "    generation_config=genai.GenerationConfig(max_output_tokens=200))\n",
    "\n",
    "response = short_model.generate_content('Write a 1000 word essay on the importance of olives in modern society.')\n",
    "print(response.text)"
   ]
  },
  {
   "cell_type": "code",
   "execution_count": 13,
   "id": "ccd2ee4d",
   "metadata": {
    "execution": {
     "iopub.execute_input": "2024-11-12T19:36:23.385204Z",
     "iopub.status.busy": "2024-11-12T19:36:23.384799Z",
     "iopub.status.idle": "2024-11-12T19:36:24.522296Z",
     "shell.execute_reply": "2024-11-12T19:36:24.520675Z"
    },
    "id": "W-3kR2F5kdMR",
    "papermill": {
     "duration": 1.156493,
     "end_time": "2024-11-12T19:36:24.524992",
     "exception": false,
     "start_time": "2024-11-12T19:36:23.368499",
     "status": "completed"
    },
    "tags": []
   },
   "outputs": [
    {
     "name": "stdout",
     "output_type": "stream",
     "text": [
      "A tiny fruit, with skin of green or black,\n",
      "On sun-kissed branches, in a sun-drenched track.\n",
      "From ancient groves, to modern kitchen shelves,\n",
      "The olive's story, a tale it tells.\n",
      "\n",
      "From salads fresh, to oil so rich and bright,\n",
      "It graces tables, morning, noon, and night.\n",
      "A symbol of peace, a taste of history's art,\n",
      "The olive holds a place, within the human heart.\n",
      "\n",
      "Its humble form, a treasure to behold,\n",
      "A taste of life, in stories yet untold.\n",
      "For centuries loved, a culinary delight,\n",
      "The olive shines, forever bright. \n",
      "\n"
     ]
    }
   ],
   "source": [
    "response = short_model.generate_content('Write a short poem on the importance of olives in modern society.')\n",
    "print(response.text)"
   ]
  },
  {
   "cell_type": "markdown",
   "id": "8b2e0fa5",
   "metadata": {
    "id": "3ZhDSLB6lqqB",
    "papermill": {
     "duration": 0.014467,
     "end_time": "2024-11-12T19:36:24.553809",
     "exception": false,
     "start_time": "2024-11-12T19:36:24.539342",
     "status": "completed"
    },
    "tags": []
   },
   "source": [
    "Explore with your own prompts. Try a prompt with a restrictive output limit and then adjust the prompt to work within that limit."
   ]
  },
  {
   "cell_type": "markdown",
   "id": "451f2661",
   "metadata": {
    "id": "alx-WaAvir_9",
    "papermill": {
     "duration": 0.013856,
     "end_time": "2024-11-12T19:36:24.582012",
     "exception": false,
     "start_time": "2024-11-12T19:36:24.568156",
     "status": "completed"
    },
    "tags": []
   },
   "source": [
    "### Temperature\n",
    "\n",
    "Temperature controls the degree of randomness in token selection. Higher temperatures result in a higher number of candidate tokens from which the next output token is selected, and can produce more diverse results, while lower temperatures have the opposite effect, such that a temperature of 0 results in greedy decoding, selecting the most probable token at each step.\n",
    "\n",
    "Temperature doesn't provide any guarantees of randomness, but it can be used to \"nudge\" the output somewhat."
   ]
  },
  {
   "cell_type": "code",
   "execution_count": 14,
   "id": "a5cd5c60",
   "metadata": {
    "execution": {
     "iopub.execute_input": "2024-11-12T19:36:24.612253Z",
     "iopub.status.busy": "2024-11-12T19:36:24.611846Z",
     "iopub.status.idle": "2024-11-12T19:36:55.428271Z",
     "shell.execute_reply": "2024-11-12T19:36:55.426490Z"
    },
    "id": "SHraGMzqnZqt",
    "papermill": {
     "duration": 30.834968,
     "end_time": "2024-11-12T19:36:55.431414",
     "exception": false,
     "start_time": "2024-11-12T19:36:24.596446",
     "status": "completed"
    },
    "tags": []
   },
   "outputs": [
    {
     "name": "stdout",
     "output_type": "stream",
     "text": [
      "Indigo \n",
      " -------------------------\n",
      "Purple. \n",
      " -------------------------\n",
      "Green \n",
      " -------------------------\n"
     ]
    }
   ],
   "source": [
    "import time\n",
    "\n",
    "high_temp_model = genai.GenerativeModel(\n",
    "    'gemini-1.5-flash',\n",
    "    generation_config=genai.GenerationConfig(temperature=2.0))\n",
    "\n",
    "for _ in range(3):\n",
    "  response = high_temp_model.generate_content('Pick a random colour... (answer in a single word)')\n",
    "  if response.parts:\n",
    "    print(response.text, '-' * 25)\n",
    "\n",
    "  # Slow down a bit so we don't get Resource Exhausted errors.\n",
    "  time.sleep(10)"
   ]
  },
  {
   "cell_type": "markdown",
   "id": "0c3874ef",
   "metadata": {
    "id": "z3J4pCTuof7e",
    "papermill": {
     "duration": 0.015764,
     "end_time": "2024-11-12T19:36:55.462000",
     "exception": false,
     "start_time": "2024-11-12T19:36:55.446236",
     "status": "completed"
    },
    "tags": []
   },
   "source": [
    "Now try the same prompt with temperature set to zero. Note that the output is not completely deterministic, as other parameters affect token selection, but the results will tend to be more stable."
   ]
  },
  {
   "cell_type": "code",
   "execution_count": 15,
   "id": "6d56726e",
   "metadata": {
    "execution": {
     "iopub.execute_input": "2024-11-12T19:36:55.494714Z",
     "iopub.status.busy": "2024-11-12T19:36:55.494254Z",
     "iopub.status.idle": "2024-11-12T19:37:56.274511Z",
     "shell.execute_reply": "2024-11-12T19:37:56.273133Z"
    },
    "papermill": {
     "duration": 60.800207,
     "end_time": "2024-11-12T19:37:56.277506",
     "exception": false,
     "start_time": "2024-11-12T19:36:55.477299",
     "status": "completed"
    },
    "tags": []
   },
   "outputs": [
    {
     "name": "stdout",
     "output_type": "stream",
     "text": [
      "Purple \n",
      " -------------------------\n",
      "Purple \n",
      " -------------------------\n",
      "Purple \n",
      " -------------------------\n"
     ]
    }
   ],
   "source": [
    "import time\n",
    "\n",
    "high_temp_model = genai.GenerativeModel(\n",
    "    'gemini-1.5-flash',\n",
    "    generation_config=genai.GenerationConfig(temperature=0.0))\n",
    "\n",
    "for _ in range(3):\n",
    "  response = high_temp_model.generate_content('Pick a random colour... (answer in a single word)')\n",
    "  if response.parts:\n",
    "    print(response.text, '-' * 25)\n",
    "\n",
    "  # Slow down a bit so we don't get Resource Exhausted errors.\n",
    "  time.sleep(20)"
   ]
  },
  {
   "cell_type": "markdown",
   "id": "d69104ce",
   "metadata": {
    "id": "St5nt3vzitsZ",
    "papermill": {
     "duration": 0.014851,
     "end_time": "2024-11-12T19:37:56.308702",
     "exception": false,
     "start_time": "2024-11-12T19:37:56.293851",
     "status": "completed"
    },
    "tags": []
   },
   "source": [
    "### Top-K and top-P\n",
    "\n",
    "Like temperature, top-K and top-P parameters are also used to control the diversity of the model's output.\n",
    "\n",
    "Top-K is a positive integer that defines the number of most probable tokens from which to select the output token. A top-K of 1 selects a single token, performing greedy decoding.\n",
    "\n",
    "Top-P defines the probability threshold that, once cumulatively exceeded, tokens stop being selected as candidates. A top-P of 0 is typically equivalent to greedy decoding, and a top-P of 1 typically selects every token in the model's vocabulary.\n",
    "\n",
    "When both are supplied, the Gemini API will filter top-K tokens first, then top-P and then finally sample from the candidate tokens using the supplied temperature.\n",
    "\n",
    "Run this example a number of times, change the settings and observe the change in output."
   ]
  },
  {
   "cell_type": "code",
   "execution_count": 16,
   "id": "a5dfb9f1",
   "metadata": {
    "execution": {
     "iopub.execute_input": "2024-11-12T19:37:56.340631Z",
     "iopub.status.busy": "2024-11-12T19:37:56.340160Z",
     "iopub.status.idle": "2024-11-12T19:37:59.029973Z",
     "shell.execute_reply": "2024-11-12T19:37:59.028479Z"
    },
    "id": "lPlzpEavUV8F",
    "papermill": {
     "duration": 2.709287,
     "end_time": "2024-11-12T19:37:59.032946",
     "exception": false,
     "start_time": "2024-11-12T19:37:56.323659",
     "status": "completed"
    },
    "tags": []
   },
   "outputs": [
    {
     "name": "stdout",
     "output_type": "stream",
     "text": [
      "Bartholomew, a ginger tabby with a penchant for napping in sunbeams, was bored. The usual routine of eating, sleeping, and chasing the red dot was getting tiresome. He yearned for adventure, for something beyond the four walls of his human's apartment. \n",
      "\n",
      "One day, a window was left ajar. Bartholomew, with the agility of a seasoned ninja, slipped through, finding himself on a fire escape. The city stretched before him, a dizzying labyrinth of buildings and sounds. Fear flickered in his eyes, quickly replaced by a thrill of the unknown. \n",
      "\n",
      "He scurried along the fire escape, the metallic rungs cold against his paws. The scent of blooming jasmine from a nearby balcony filled his nostrils, and a plump pigeon pecked at a crumb on the ledge, oblivious to the ginger shadow lurking nearby. \n",
      "\n",
      "Following the scent of adventure, Bartholomew found himself in a bustling market. The cacophony of voices and the aroma of spices filled the air. He weaved through legs, dodging stray shopping bags, his whiskers twitching at the unfamiliar sights and smells.\n",
      "\n",
      "He saw a little girl with pigtails, her face alight with joy, holding a fluffy white kitten. Bartholomew, feeling a pang of jealousy, remembered his own human, his soft bed, and the warmth of his sunbeam. \n",
      "\n",
      "The girl, seeing Bartholomew, giggled. \"Look, kitty! You're lost, aren't you?\" She held out her hand, a piece of juicy sausage tempting him closer. Bartholomew, hesitant, approached cautiously. The girl, with a gentle touch, stroked his head. \n",
      "\n",
      "In that moment, Bartholomew realised that adventure wasn't about escaping, but about experiencing. He had tasted freedom, smelled the city, and felt the warmth of a stranger's touch. The girl, after a playful chase, led him back to his fire escape, a purring rumble escaping his throat. \n",
      "\n",
      "He went back to his usual routine, but with a new spark in his eyes. He still loved his sunbeam, but now he knew there was a whole world outside, waiting to be explored, one adventure at a time. And when he saw the red dot, he chased it with a renewed enthusiasm, each pounce an echo of his grand adventure. \n",
      "\n"
     ]
    }
   ],
   "source": [
    "model = genai.GenerativeModel(\n",
    "    'gemini-1.5-flash-001',\n",
    "    generation_config=genai.GenerationConfig(\n",
    "        # These are the default values for gemini-1.5-flash-001.\n",
    "        temperature=1.0,\n",
    "        top_k=64,\n",
    "        top_p=0.95,\n",
    "    ))\n",
    "\n",
    "story_prompt = \"You are a creative writer. Write a short story about a cat who goes on an adventure.\"\n",
    "response = model.generate_content(story_prompt)\n",
    "print(response.text)"
   ]
  },
  {
   "cell_type": "markdown",
   "id": "d6619877",
   "metadata": {
    "id": "rMrYs1koY6DX",
    "papermill": {
     "duration": 0.01451,
     "end_time": "2024-11-12T19:37:59.063049",
     "exception": false,
     "start_time": "2024-11-12T19:37:59.048539",
     "status": "completed"
    },
    "tags": []
   },
   "source": [
    "## Prompting\n",
    "\n",
    "This section contains some prompts from the chapter for you to try out directly in the API. Try changing the text here to see how each prompt performs with different instructions, more examples, or any other changes you can think of."
   ]
  },
  {
   "cell_type": "markdown",
   "id": "1c76cbd7",
   "metadata": {
    "id": "hhj_tQidZJP7",
    "papermill": {
     "duration": 0.015124,
     "end_time": "2024-11-12T19:37:59.092833",
     "exception": false,
     "start_time": "2024-11-12T19:37:59.077709",
     "status": "completed"
    },
    "tags": []
   },
   "source": [
    "### Zero-shot\n",
    "\n",
    "Zero-shot prompts are prompts that describe the request for the model directly.\n",
    "\n",
    "<table align=left>\n",
    "  <td>\n",
    "    <a target=\"_blank\" href=\"https://aistudio.google.com/prompts/1gzKKgDHwkAvexG5Up0LMtl1-6jKMKe4g\"><img src=\"https://ai.google.dev/site-assets/images/marketing/home/icon-ais.png\" style=\"height: 24px\" height=24/> Open in AI Studio</a>\n",
    "  </td>\n",
    "</table>"
   ]
  },
  {
   "cell_type": "code",
   "execution_count": 17,
   "id": "5fb98669",
   "metadata": {
    "execution": {
     "iopub.execute_input": "2024-11-12T19:37:59.124837Z",
     "iopub.status.busy": "2024-11-12T19:37:59.124420Z",
     "iopub.status.idle": "2024-11-12T19:37:59.538082Z",
     "shell.execute_reply": "2024-11-12T19:37:59.536686Z"
    },
    "id": "1_t-cwnDZzbH",
    "papermill": {
     "duration": 0.433296,
     "end_time": "2024-11-12T19:37:59.540999",
     "exception": false,
     "start_time": "2024-11-12T19:37:59.107703",
     "status": "completed"
    },
    "tags": []
   },
   "outputs": [
    {
     "name": "stdout",
     "output_type": "stream",
     "text": [
      "Sentiment: **POSITIVE**\n"
     ]
    }
   ],
   "source": [
    "model = genai.GenerativeModel(\n",
    "    'gemini-1.5-flash-001',\n",
    "    generation_config=genai.GenerationConfig(\n",
    "        temperature=0.1,\n",
    "        top_p=1,\n",
    "        max_output_tokens=5,\n",
    "    ))\n",
    "\n",
    "zero_shot_prompt = \"\"\"Classify movie reviews as POSITIVE, NEUTRAL or NEGATIVE.\n",
    "Review: \"Her\" is a disturbing study revealing the direction\n",
    "humanity is headed if AI is allowed to keep evolving,\n",
    "unchecked. I wish there were more movies like this masterpiece.\n",
    "Sentiment: \"\"\"\n",
    "\n",
    "response = model.generate_content(zero_shot_prompt)\n",
    "print(response.text)"
   ]
  },
  {
   "cell_type": "markdown",
   "id": "7c8ad0c5",
   "metadata": {
    "id": "3b5568bdeb11",
    "papermill": {
     "duration": 0.014408,
     "end_time": "2024-11-12T19:37:59.570154",
     "exception": false,
     "start_time": "2024-11-12T19:37:59.555746",
     "status": "completed"
    },
    "tags": []
   },
   "source": [
    "#### Enum mode\n",
    "\n",
    "The models are trained to generate text, and can sometimes produce more text than you may wish for. In the preceding example, the model will output the label, sometimes it can include a preceding \"Sentiment\" label, and without an output token limit, it may also add explanatory text afterwards.\n",
    "\n",
    "The Gemini API has an [Enum mode](https://github.com/google-gemini/cookbook/blob/main/quickstarts/Enum.ipynb) feature that allows you to constrain the output to a fixed set of values."
   ]
  },
  {
   "cell_type": "code",
   "execution_count": 18,
   "id": "26d00e8b",
   "metadata": {
    "execution": {
     "iopub.execute_input": "2024-11-12T19:37:59.602250Z",
     "iopub.status.busy": "2024-11-12T19:37:59.601833Z",
     "iopub.status.idle": "2024-11-12T19:38:00.155050Z",
     "shell.execute_reply": "2024-11-12T19:38:00.153707Z"
    },
    "id": "ad118a56c598",
    "papermill": {
     "duration": 0.572783,
     "end_time": "2024-11-12T19:38:00.157931",
     "exception": false,
     "start_time": "2024-11-12T19:37:59.585148",
     "status": "completed"
    },
    "tags": []
   },
   "outputs": [
    {
     "name": "stdout",
     "output_type": "stream",
     "text": [
      "positive\n"
     ]
    }
   ],
   "source": [
    "import enum\n",
    "\n",
    "class Sentiment(enum.Enum):\n",
    "    POSITIVE = \"positive\"\n",
    "    NEUTRAL = \"neutral\"\n",
    "    NEGATIVE = \"negative\"\n",
    "\n",
    "\n",
    "model = genai.GenerativeModel(\n",
    "    'gemini-1.5-flash-001',\n",
    "    generation_config=genai.GenerationConfig(\n",
    "        response_mime_type=\"text/x.enum\",\n",
    "        response_schema=Sentiment\n",
    "    ))\n",
    "\n",
    "response = model.generate_content(zero_shot_prompt)\n",
    "print(response.text)"
   ]
  },
  {
   "cell_type": "markdown",
   "id": "27050da8",
   "metadata": {
    "id": "0udiSwNbv45W",
    "papermill": {
     "duration": 0.016703,
     "end_time": "2024-11-12T19:38:00.189638",
     "exception": false,
     "start_time": "2024-11-12T19:38:00.172935",
     "status": "completed"
    },
    "tags": []
   },
   "source": [
    "### One-shot and few-shot\n",
    "\n",
    "Providing an example of the expected response is known as a \"one-shot\" prompt. When you provide multiple examples, it is a \"few-shot\" prompt.\n",
    "\n",
    "<table align=left>\n",
    "  <td>\n",
    "    <a target=\"_blank\" href=\"https://aistudio.google.com/prompts/1jjWkjUSoMXmLvMJ7IzADr_GxHPJVV2bg\"><img src=\"https://ai.google.dev/site-assets/images/marketing/home/icon-ais.png\" style=\"height: 24px\" height=24/> Open in AI Studio</a>\n",
    "  </td>\n",
    "</table>\n"
   ]
  },
  {
   "cell_type": "code",
   "execution_count": 19,
   "id": "162d75c1",
   "metadata": {
    "execution": {
     "iopub.execute_input": "2024-11-12T19:38:00.223498Z",
     "iopub.status.busy": "2024-11-12T19:38:00.222277Z",
     "iopub.status.idle": "2024-11-12T19:38:00.571859Z",
     "shell.execute_reply": "2024-11-12T19:38:00.570635Z"
    },
    "id": "hd4mVUukwOKZ",
    "papermill": {
     "duration": 0.368915,
     "end_time": "2024-11-12T19:38:00.574806",
     "exception": false,
     "start_time": "2024-11-12T19:38:00.205891",
     "status": "completed"
    },
    "tags": []
   },
   "outputs": [
    {
     "name": "stdout",
     "output_type": "stream",
     "text": [
      "```json\n",
      "{\n",
      "\"size\": \"large\",\n",
      "\"type\": \"normal\",\n",
      "\"ingredients\": [\"cheese\", \"pineapple\"]\n",
      "}\n",
      "``` \n",
      "\n"
     ]
    }
   ],
   "source": [
    "model = genai.GenerativeModel(\n",
    "    'gemini-1.5-flash-latest',\n",
    "    generation_config=genai.GenerationConfig(\n",
    "        temperature=0.1,\n",
    "        top_p=1,\n",
    "        max_output_tokens=250,\n",
    "    ))\n",
    "\n",
    "few_shot_prompt = \"\"\"Parse a customer's pizza order into valid JSON:\n",
    "\n",
    "EXAMPLE:\n",
    "I want a small pizza with cheese, tomato sauce, and pepperoni.\n",
    "JSON Response:\n",
    "```\n",
    "{\n",
    "\"size\": \"small\",\n",
    "\"type\": \"normal\",\n",
    "\"ingredients\": [\"cheese\", \"tomato sauce\", \"peperoni\"]\n",
    "}\n",
    "```\n",
    "\n",
    "EXAMPLE:\n",
    "Can I get a large pizza with tomato sauce, basil and mozzarella\n",
    "JSON Response:\n",
    "```\n",
    "{\n",
    "\"size\": \"large\",\n",
    "\"type\": \"normal\",\n",
    "\"ingredients\": [\"tomato sauce\", \"basil\", \"mozzarella\"]\n",
    "}\n",
    "\n",
    "ORDER:\n",
    "\"\"\"\n",
    "\n",
    "customer_order = \"Give me a large with cheese & pineapple\"\n",
    "\n",
    "\n",
    "response = model.generate_content([few_shot_prompt, customer_order])\n",
    "print(response.text)"
   ]
  },
  {
   "cell_type": "markdown",
   "id": "bccafc8b",
   "metadata": {
    "id": "021293096f08",
    "papermill": {
     "duration": 0.014724,
     "end_time": "2024-11-12T19:38:00.605732",
     "exception": false,
     "start_time": "2024-11-12T19:38:00.591008",
     "status": "completed"
    },
    "tags": []
   },
   "source": [
    "#### JSON mode\n",
    "\n",
    "To provide control over the schema, and to ensure that you only receive JSON (with no other text or markdown), you can use the Gemini API's [JSON mode](https://github.com/google-gemini/cookbook/blob/main/quickstarts/JSON_mode.ipynb). This forces the model to constrain decoding, such that token selection is guided by the supplied schema."
   ]
  },
  {
   "cell_type": "code",
   "execution_count": 20,
   "id": "e0c04c96",
   "metadata": {
    "execution": {
     "iopub.execute_input": "2024-11-12T19:38:00.640598Z",
     "iopub.status.busy": "2024-11-12T19:38:00.639239Z",
     "iopub.status.idle": "2024-11-12T19:38:01.068185Z",
     "shell.execute_reply": "2024-11-12T19:38:01.066919Z"
    },
    "id": "50fbf0260912",
    "papermill": {
     "duration": 0.448746,
     "end_time": "2024-11-12T19:38:01.070735",
     "exception": false,
     "start_time": "2024-11-12T19:38:00.621989",
     "status": "completed"
    },
    "tags": []
   },
   "outputs": [
    {
     "name": "stdout",
     "output_type": "stream",
     "text": [
      "{\"ingredients\": [\"apple\", \"chocolate\"], \"size\": \"large\", \"type\": \"dessert\"}\n",
      "\n"
     ]
    }
   ],
   "source": [
    "import typing_extensions as typing\n",
    "\n",
    "class PizzaOrder(typing.TypedDict):\n",
    "    size: str\n",
    "    ingredients: list[str]\n",
    "    type: str\n",
    "\n",
    "\n",
    "model = genai.GenerativeModel(\n",
    "    'gemini-1.5-flash-latest',\n",
    "    generation_config=genai.GenerationConfig(\n",
    "        temperature=0.1,\n",
    "        response_mime_type=\"application/json\",\n",
    "        response_schema=PizzaOrder,\n",
    "    ))\n",
    "\n",
    "response = model.generate_content(\"Can I have a large dessert pizza with apple and chocolate\")\n",
    "print(response.text)"
   ]
  },
  {
   "cell_type": "markdown",
   "id": "3608c1af",
   "metadata": {
    "id": "4a93e338e57c",
    "papermill": {
     "duration": 0.014876,
     "end_time": "2024-11-12T19:38:01.100822",
     "exception": false,
     "start_time": "2024-11-12T19:38:01.085946",
     "status": "completed"
    },
    "tags": []
   },
   "source": [
    "### Chain of Thought (CoT)\n",
    "\n",
    "Direct prompting on LLMs can return answers quickly and (in terms of output token usage) efficiently, but they can be prone to hallucination. The answer may \"look\" correct (in terms of language and syntax) but is incorrect in terms of factuality and reasoning.\n",
    "\n",
    "Chain-of-Thought prompting is a technique where you instruct the model to output intermediate reasoning steps, and it typically gets better results, especially when combined with few-shot examples. It is worth noting that this technique doesn't completely eliminate hallucinations, and that it tends to cost more to run, due to the increased token count.\n",
    "\n",
    "As models like the Gemini family are trained to be \"chatty\" and provide reasoning steps, you can ask the model to be more direct in the prompt."
   ]
  },
  {
   "cell_type": "code",
   "execution_count": 21,
   "id": "157c0b8c",
   "metadata": {
    "execution": {
     "iopub.execute_input": "2024-11-12T19:38:01.134016Z",
     "iopub.status.busy": "2024-11-12T19:38:01.133489Z",
     "iopub.status.idle": "2024-11-12T19:38:01.442877Z",
     "shell.execute_reply": "2024-11-12T19:38:01.440588Z"
    },
    "id": "5715555db1c1",
    "papermill": {
     "duration": 0.330165,
     "end_time": "2024-11-12T19:38:01.446838",
     "exception": false,
     "start_time": "2024-11-12T19:38:01.116673",
     "status": "completed"
    },
    "tags": []
   },
   "outputs": [
    {
     "name": "stdout",
     "output_type": "stream",
     "text": [
      "39 \n",
      "\n"
     ]
    }
   ],
   "source": [
    "prompt = \"\"\"When I was 4 years old, my partner was 3 times my age. Now, I\n",
    "am 20 years old. How old is my partner? Return the answer immediately.\"\"\"\n",
    "\n",
    "model = genai.GenerativeModel('gemini-1.5-flash-latest')\n",
    "response = model.generate_content(prompt)\n",
    "\n",
    "print(response.text)"
   ]
  },
  {
   "cell_type": "markdown",
   "id": "d8832c6e",
   "metadata": {
    "id": "e12b19677bfd",
    "papermill": {
     "duration": 0.021581,
     "end_time": "2024-11-12T19:38:01.490797",
     "exception": false,
     "start_time": "2024-11-12T19:38:01.469216",
     "status": "completed"
    },
    "tags": []
   },
   "source": [
    "Now try the same approach, but indicate to the model that it should \"think step by step\"."
   ]
  },
  {
   "cell_type": "code",
   "execution_count": 22,
   "id": "f93bb4a8",
   "metadata": {
    "execution": {
     "iopub.execute_input": "2024-11-12T19:38:01.535781Z",
     "iopub.status.busy": "2024-11-12T19:38:01.534526Z",
     "iopub.status.idle": "2024-11-12T19:38:02.312070Z",
     "shell.execute_reply": "2024-11-12T19:38:02.310640Z"
    },
    "id": "ffd7536a481f",
    "papermill": {
     "duration": 0.805337,
     "end_time": "2024-11-12T19:38:02.314843",
     "exception": false,
     "start_time": "2024-11-12T19:38:01.509506",
     "status": "completed"
    },
    "tags": []
   },
   "outputs": [
    {
     "name": "stdout",
     "output_type": "stream",
     "text": [
      "Here's how we can solve this:\n",
      "\n",
      "* **When you were 4, your partner was 3 times your age:**  3 * 4 = 12 years old.\n",
      "* **Age difference:** Your partner was 12 - 4 = 8 years older than you.\n",
      "* **Age difference remains the same:** Since the age difference stays constant, your partner is still 8 years older than you.\n",
      "* **Your partner's current age:** You are 20 years old, so your partner is 20 + 8 = **28 years old**. \n",
      "\n"
     ]
    }
   ],
   "source": [
    "prompt = \"\"\"When I was 4 years old, my partner was 3 times my age. Now,\n",
    "I am 20 years old. How old is my partner? Let's think step by step.\"\"\"\n",
    "\n",
    "response = model.generate_content(prompt)\n",
    "print(response.text)"
   ]
  },
  {
   "cell_type": "markdown",
   "id": "25a7e37d",
   "metadata": {
    "id": "oiLgBQJj0V53",
    "papermill": {
     "duration": 0.015406,
     "end_time": "2024-11-12T19:38:02.345430",
     "exception": false,
     "start_time": "2024-11-12T19:38:02.330024",
     "status": "completed"
    },
    "tags": []
   },
   "source": [
    "### ReAct: Reason and act\n",
    "\n",
    "In this example you will run a ReAct prompt directly in the Gemini API and perform the searching steps yourself. As this prompt follows a well-defined structure, there are frameworks available that wrap the prompt into easier-to-use APIs that make tool calls automatically, such as the LangChain example from the chapter.\n",
    "\n",
    "To try this out with the Wikipedia search engine, check out the [Searching Wikipedia with ReAct](https://github.com/google-gemini/cookbook/blob/main/examples/Search_Wikipedia_using_ReAct.ipynb) cookbook example.\n",
    "\n",
    "\n",
    "> Note: The prompt and in-context examples used here are from [https://github.com/ysymyth/ReAct](https://github.com/ysymyth/ReAct) which is published under a [MIT license](https://opensource.org/licenses/MIT), Copyright (c) 2023 Shunyu Yao.\n",
    "\n",
    "<table align=left>\n",
    "  <td>\n",
    "    <a target=\"_blank\" href=\"https://aistudio.google.com/prompts/18oo63Lwosd-bQ6Ay51uGogB3Wk3H8XMO\"><img src=\"https://ai.google.dev/site-assets/images/marketing/home/icon-ais.png\" style=\"height: 24px\" height=24/> Open in AI Studio</a>\n",
    "  </td>\n",
    "</table>\n"
   ]
  },
  {
   "cell_type": "code",
   "execution_count": 23,
   "id": "bf55421f",
   "metadata": {
    "execution": {
     "iopub.execute_input": "2024-11-12T19:38:02.379211Z",
     "iopub.status.busy": "2024-11-12T19:38:02.378769Z",
     "iopub.status.idle": "2024-11-12T19:38:02.386594Z",
     "shell.execute_reply": "2024-11-12T19:38:02.385188Z"
    },
    "id": "cBgyNJ5z0VSs",
    "papermill": {
     "duration": 0.027784,
     "end_time": "2024-11-12T19:38:02.389114",
     "exception": false,
     "start_time": "2024-11-12T19:38:02.361330",
     "status": "completed"
    },
    "tags": []
   },
   "outputs": [],
   "source": [
    "model_instructions = \"\"\"\n",
    "Solve a question answering task with interleaving Thought, Action, Observation steps. Thought can reason about the current situation,\n",
    "Observation is understanding relevant information from an Action's output and Action can be one of three types:\n",
    " (1) <search>entity</search>, which searches the exact entity on Wikipedia and returns the first paragraph if it exists. If not, it\n",
    "     will return some similar entities to search and you can try to search the information from those topics.\n",
    " (2) <lookup>keyword</lookup>, which returns the next sentence containing keyword in the current context. This only does exact matches,\n",
    "     so keep your searches short.\n",
    " (3) <finish>answer</finish>, which returns the answer and finishes the task.\n",
    "\"\"\"\n",
    "\n",
    "example1 = \"\"\"Question\n",
    "Musician and satirist Allie Goertz wrote a song about the \"The Simpsons\" character Milhouse, who Matt Groening named after who?\n",
    "\n",
    "Thought 1\n",
    "The question simplifies to \"The Simpsons\" character Milhouse is named after who. I only need to search Milhouse and find who it is named after.\n",
    "\n",
    "Action 1\n",
    "<search>Milhouse</search>\n",
    "\n",
    "Observation 1\n",
    "Milhouse Mussolini Van Houten is a recurring character in the Fox animated television series The Simpsons voiced by Pamela Hayden and created by Matt Groening.\n",
    "\n",
    "Thought 2\n",
    "The paragraph does not tell who Milhouse is named after, maybe I can look up \"named after\".\n",
    "\n",
    "Action 2\n",
    "<lookup>named after</lookup>\n",
    "\n",
    "Observation 2\n",
    "Milhouse was named after U.S. president Richard Nixon, whose middle name was Milhous.\n",
    "\n",
    "Thought 3\n",
    "Milhouse was named after U.S. president Richard Nixon, so the answer is Richard Nixon.\n",
    "\n",
    "Action 3\n",
    "<finish>Richard Nixon</finish>\n",
    "\"\"\"\n",
    "\n",
    "example2 = \"\"\"Question\n",
    "What is the elevation range for the area that the eastern sector of the Colorado orogeny extends into?\n",
    "\n",
    "Thought 1\n",
    "I need to search Colorado orogeny, find the area that the eastern sector of the Colorado orogeny extends into, then find the elevation range of the area.\n",
    "\n",
    "Action 1\n",
    "<search>Colorado orogeny</search>\n",
    "\n",
    "Observation 1\n",
    "The Colorado orogeny was an episode of mountain building (an orogeny) in Colorado and surrounding areas.\n",
    "\n",
    "Thought 2\n",
    "It does not mention the eastern sector. So I need to look up eastern sector.\n",
    "\n",
    "Action 2\n",
    "<lookup>eastern sector</lookup>\n",
    "\n",
    "Observation 2\n",
    "The eastern sector extends into the High Plains and is called the Central Plains orogeny.\n",
    "\n",
    "Thought 3\n",
    "The eastern sector of Colorado orogeny extends into the High Plains. So I need to search High Plains and find its elevation range.\n",
    "\n",
    "Action 3\n",
    "<search>High Plains</search>\n",
    "\n",
    "Observation 3\n",
    "High Plains refers to one of two distinct land regions\n",
    "\n",
    "Thought 4\n",
    "I need to instead search High Plains (United States).\n",
    "\n",
    "Action 4\n",
    "<search>High Plains (United States)</search>\n",
    "\n",
    "Observation 4\n",
    "The High Plains are a subregion of the Great Plains. From east to west, the High Plains rise in elevation from around 1,800 to 7,000 ft (550 to 2,130m).\n",
    "\n",
    "Thought 5\n",
    "High Plains rise in elevation from around 1,800 to 7,000 ft, so the answer is 1,800 to 7,000 ft.\n",
    "\n",
    "Action 5\n",
    "<finish>1,800 to 7,000 ft</finish>\n",
    "\"\"\"\n",
    "\n",
    "# Come up with more examples yourself, or take a look through https://github.com/ysymyth/ReAct/"
   ]
  },
  {
   "cell_type": "markdown",
   "id": "182a987d",
   "metadata": {
    "id": "C3wbfstjTgey",
    "papermill": {
     "duration": 0.014973,
     "end_time": "2024-11-12T19:38:02.419452",
     "exception": false,
     "start_time": "2024-11-12T19:38:02.404479",
     "status": "completed"
    },
    "tags": []
   },
   "source": [
    "To capture a single step at a time, while ignoring any hallucinated Observation steps, you will use `stop_sequences` to end the generation process. The steps are `Thought`, `Action`, `Observation`, in that order."
   ]
  },
  {
   "cell_type": "code",
   "execution_count": 24,
   "id": "52d6943f",
   "metadata": {
    "execution": {
     "iopub.execute_input": "2024-11-12T19:38:02.452535Z",
     "iopub.status.busy": "2024-11-12T19:38:02.451373Z",
     "iopub.status.idle": "2024-11-12T19:38:03.604889Z",
     "shell.execute_reply": "2024-11-12T19:38:03.603580Z"
    },
    "id": "8mxrXRkRTdXm",
    "papermill": {
     "duration": 1.172722,
     "end_time": "2024-11-12T19:38:03.607335",
     "exception": false,
     "start_time": "2024-11-12T19:38:02.434613",
     "status": "completed"
    },
    "tags": []
   },
   "outputs": [
    {
     "name": "stdout",
     "output_type": "stream",
     "text": [
      "Thought 1\n",
      "I need to find the Transformers NLP paper and look up the authors.\n",
      "\n",
      "Action 1\n",
      "<search>Transformers NLP paper</search>\n",
      "\n"
     ]
    }
   ],
   "source": [
    "question = \"\"\"Question\n",
    "Who was the youngest author listed on the transformers NLP paper?\n",
    "\"\"\"\n",
    "\n",
    "model = genai.GenerativeModel('gemini-1.5-flash-latest')\n",
    "react_chat = model.start_chat()\n",
    "\n",
    "# You will perform the Action, so generate up to, but not including, the Observation.\n",
    "config = genai.GenerationConfig(stop_sequences=[\"\\nObservation\"])\n",
    "\n",
    "resp = react_chat.send_message(\n",
    "    [model_instructions, example1, example2, question],\n",
    "    generation_config=config)\n",
    "print(resp.text)"
   ]
  },
  {
   "cell_type": "markdown",
   "id": "2e6b5da5",
   "metadata": {
    "id": "aW2PIdLbVv3l",
    "papermill": {
     "duration": 0.015168,
     "end_time": "2024-11-12T19:38:03.637729",
     "exception": false,
     "start_time": "2024-11-12T19:38:03.622561",
     "status": "completed"
    },
    "tags": []
   },
   "source": [
    "Now you can perform this research yourself and supply it back to the model."
   ]
  },
  {
   "cell_type": "code",
   "execution_count": 25,
   "id": "db9966de",
   "metadata": {
    "execution": {
     "iopub.execute_input": "2024-11-12T19:38:03.671337Z",
     "iopub.status.busy": "2024-11-12T19:38:03.670876Z",
     "iopub.status.idle": "2024-11-12T19:38:04.157201Z",
     "shell.execute_reply": "2024-11-12T19:38:04.155844Z"
    },
    "id": "mLMc0DZaV9g2",
    "papermill": {
     "duration": 0.505995,
     "end_time": "2024-11-12T19:38:04.160154",
     "exception": false,
     "start_time": "2024-11-12T19:38:03.654159",
     "status": "completed"
    },
    "tags": []
   },
   "outputs": [
    {
     "name": "stdout",
     "output_type": "stream",
     "text": [
      "Thought 2\n",
      "I need to find the youngest author. Since the author list is not in any particular order, I need to find their ages and compare them.\n",
      "\n",
      "Action 2\n",
      "<search>Ashish Vaswani age</search> \n",
      "\n"
     ]
    }
   ],
   "source": [
    "observation = \"\"\"Observation 1\n",
    "[1706.03762] Attention Is All You Need\n",
    "Ashish Vaswani, Noam Shazeer, Niki Parmar, Jakob Uszkoreit, Llion Jones, Aidan N. Gomez, Lukasz Kaiser, Illia Polosukhin\n",
    "We propose a new simple network architecture, the Transformer, based solely on attention mechanisms, dispensing with recurrence and convolutions entirely.\n",
    "\"\"\"\n",
    "resp = react_chat.send_message(observation, generation_config=config)\n",
    "print(resp.text)"
   ]
  },
  {
   "cell_type": "markdown",
   "id": "c21b76b6",
   "metadata": {
    "id": "bo0tzf4nX6dA",
    "papermill": {
     "duration": 0.016055,
     "end_time": "2024-11-12T19:38:04.192035",
     "exception": false,
     "start_time": "2024-11-12T19:38:04.175980",
     "status": "completed"
    },
    "tags": []
   },
   "source": [
    "This process repeats until the `<finish>` action is reached. You can continue running this yourself if you like, or try the [Wikipedia example](https://github.com/google-gemini/cookbook/blob/main/examples/Search_Wikipedia_using_ReAct.ipynb) to see a fully automated ReAct system at work."
   ]
  },
  {
   "cell_type": "markdown",
   "id": "0160101d",
   "metadata": {
    "id": "jPiZ_eIIaVPt",
    "papermill": {
     "duration": 0.015759,
     "end_time": "2024-11-12T19:38:04.223353",
     "exception": false,
     "start_time": "2024-11-12T19:38:04.207594",
     "status": "completed"
    },
    "tags": []
   },
   "source": [
    "## Code prompting"
   ]
  },
  {
   "cell_type": "markdown",
   "id": "ef151b35",
   "metadata": {
    "id": "ZinKamwXeR6C",
    "papermill": {
     "duration": 0.016311,
     "end_time": "2024-11-12T19:38:04.255473",
     "exception": false,
     "start_time": "2024-11-12T19:38:04.239162",
     "status": "completed"
    },
    "tags": []
   },
   "source": [
    "### Generating code\n",
    "\n",
    "The Gemini family of models can be used to generate code, configuration and scripts. Generating code can be helpful when learning to code, learning a new language or for rapidly generating a first draft.\n",
    "\n",
    "It's important to be aware that since LLMs can't reason, and can repeat training data, it's essential to read and test your code first, and comply with any relevant licenses.\n",
    "\n",
    "<table align=left>\n",
    "  <td>\n",
    "    <a target=\"_blank\" href=\"https://aistudio.google.com/prompts/1YX71JGtzDjXQkgdes8bP6i3oH5lCRKxv\"><img src=\"https://ai.google.dev/site-assets/images/marketing/home/icon-ais.png\" style=\"height: 24px\" height=24/> Open in AI Studio</a>\n",
    "  </td>\n",
    "</table>"
   ]
  },
  {
   "cell_type": "code",
   "execution_count": 26,
   "id": "a1908eb2",
   "metadata": {
    "execution": {
     "iopub.execute_input": "2024-11-12T19:38:04.288048Z",
     "iopub.status.busy": "2024-11-12T19:38:04.287601Z",
     "iopub.status.idle": "2024-11-12T19:38:04.695221Z",
     "shell.execute_reply": "2024-11-12T19:38:04.694046Z"
    },
    "id": "fOQP9pqmeUO1",
    "papermill": {
     "duration": 0.426776,
     "end_time": "2024-11-12T19:38:04.697625",
     "exception": false,
     "start_time": "2024-11-12T19:38:04.270849",
     "status": "completed"
    },
    "tags": []
   },
   "outputs": [
    {
     "data": {
      "text/markdown": [
       "```python\n",
       "def factorial(n):\n",
       "  if n == 0:\n",
       "    return 1\n",
       "  else:\n",
       "    return n * factorial(n-1)\n",
       "```"
      ],
      "text/plain": [
       "<IPython.core.display.Markdown object>"
      ]
     },
     "execution_count": 26,
     "metadata": {},
     "output_type": "execute_result"
    }
   ],
   "source": [
    "model = genai.GenerativeModel(\n",
    "    'gemini-1.5-flash-latest',\n",
    "    generation_config=genai.GenerationConfig(\n",
    "        temperature=1,\n",
    "        top_p=1,\n",
    "        max_output_tokens=1024,\n",
    "    ))\n",
    "\n",
    "# Gemini 1.5 models are very chatty, so it helps to specify they stick to the code.\n",
    "code_prompt = \"\"\"\n",
    "Write a Python function to calculate the factorial of a number. No explanation, provide only the code.\n",
    "\"\"\"\n",
    "\n",
    "response = model.generate_content(code_prompt)\n",
    "Markdown(response.text)"
   ]
  },
  {
   "cell_type": "markdown",
   "id": "ef1877c2",
   "metadata": {
    "id": "wlBMWSFhgVRQ",
    "papermill": {
     "duration": 0.015372,
     "end_time": "2024-11-12T19:38:04.728340",
     "exception": false,
     "start_time": "2024-11-12T19:38:04.712968",
     "status": "completed"
    },
    "tags": []
   },
   "source": [
    "### Code execution\n",
    "\n",
    "The Gemini API can automatically run generated code too, and will return the output.\n",
    "\n",
    "<table align=left>\n",
    "  <td>\n",
    "    <a target=\"_blank\" href=\"https://aistudio.google.com/prompts/11veFr_VYEwBWcLkhNLr-maCG0G8sS_7Z\"><img src=\"https://ai.google.dev/site-assets/images/marketing/home/icon-ais.png\" style=\"height: 24px\" height=24/> Open in AI Studio</a>\n",
    "  </td>\n",
    "</table>"
   ]
  },
  {
   "cell_type": "code",
   "execution_count": 27,
   "id": "e0422651",
   "metadata": {
    "execution": {
     "iopub.execute_input": "2024-11-12T19:38:04.761153Z",
     "iopub.status.busy": "2024-11-12T19:38:04.760720Z",
     "iopub.status.idle": "2024-11-12T19:38:09.890837Z",
     "shell.execute_reply": "2024-11-12T19:38:09.889367Z"
    },
    "id": "jT3OfWYfhjRL",
    "papermill": {
     "duration": 5.150174,
     "end_time": "2024-11-12T19:38:09.893922",
     "exception": false,
     "start_time": "2024-11-12T19:38:04.743748",
     "status": "completed"
    },
    "tags": []
   },
   "outputs": [
    {
     "data": {
      "text/markdown": [
       "\n",
       "``` python\n",
       "import sympy\n",
       "\n",
       "primes = [x for x in sympy.primerange(1, 100) if x % 2 != 0]\n",
       "print(sum(primes[:14]))\n",
       "\n",
       "```\n",
       "```\n",
       "326\n",
       "\n",
       "```\n",
       "The sum of the first 14 odd primes is 326.\n",
       "\n",
       "Here's how I got the answer: \n",
       "1. I used the `sympy.primerange(1,100)` function to generate all prime numbers between 1 and 100.\n",
       "2. I created a list called `primes` which contains all the odd prime numbers from the previous list.\n",
       "3. Finally, I used `sum(primes[:14])` to find the sum of the first 14 odd prime numbers. \n"
      ],
      "text/plain": [
       "<IPython.core.display.Markdown object>"
      ]
     },
     "execution_count": 27,
     "metadata": {},
     "output_type": "execute_result"
    }
   ],
   "source": [
    "model = genai.GenerativeModel(\n",
    "    'gemini-1.5-flash-latest',\n",
    "    tools='code_execution')\n",
    "\n",
    "code_exec_prompt = \"\"\"\n",
    "Calculate the sum of the first 14 prime numbers. Only consider the odd primes, and make sure you get them all.\n",
    "\"\"\"\n",
    "\n",
    "response = model.generate_content(code_exec_prompt)\n",
    "Markdown(response.text)"
   ]
  },
  {
   "cell_type": "markdown",
   "id": "d76d994c",
   "metadata": {
    "id": "ZspT1GSkjG6d",
    "papermill": {
     "duration": 0.016948,
     "end_time": "2024-11-12T19:38:09.929052",
     "exception": false,
     "start_time": "2024-11-12T19:38:09.912104",
     "status": "completed"
    },
    "tags": []
   },
   "source": [
    "While this looks like a single-part response, you can inspect the response to see the each of the steps: initial text, code generation, execution results, and final text summary."
   ]
  },
  {
   "cell_type": "code",
   "execution_count": 28,
   "id": "ed78536c",
   "metadata": {
    "execution": {
     "iopub.execute_input": "2024-11-12T19:38:09.964058Z",
     "iopub.status.busy": "2024-11-12T19:38:09.963574Z",
     "iopub.status.idle": "2024-11-12T19:38:09.971543Z",
     "shell.execute_reply": "2024-11-12T19:38:09.969855Z"
    },
    "id": "j4gQVzcRjRX-",
    "papermill": {
     "duration": 0.029473,
     "end_time": "2024-11-12T19:38:09.974862",
     "exception": false,
     "start_time": "2024-11-12T19:38:09.945389",
     "status": "completed"
    },
    "tags": []
   },
   "outputs": [
    {
     "name": "stdout",
     "output_type": "stream",
     "text": [
      "text: \"\"\n",
      "\n",
      "-----\n",
      "executable_code {\n",
      "  language: PYTHON\n",
      "  code: \"\\nimport sympy\\n\\nprimes = [x for x in sympy.primerange(1, 100) if x % 2 != 0]\\nprint(sum(primes[:14]))\\n\"\n",
      "}\n",
      "\n",
      "-----\n",
      "code_execution_result {\n",
      "  outcome: OUTCOME_OK\n",
      "  output: \"326\\n\"\n",
      "}\n",
      "\n",
      "-----\n",
      "text: \"The sum of the first 14 odd primes is 326.\\n\\nHere\\'s how I got the answer: \\n1. I used the `sympy.primerange(1,100)` function to generate all prime numbers between 1 and 100.\\n2. I created a list called `primes` which contains all the odd prime numbers from the previous list.\\n3. Finally, I used `sum(primes[:14])` to find the sum of the first 14 odd prime numbers. \\n\"\n",
      "\n",
      "-----\n"
     ]
    }
   ],
   "source": [
    "for part in response.candidates[0].content.parts:\n",
    "  print(part)\n",
    "  print(\"-----\")"
   ]
  },
  {
   "cell_type": "markdown",
   "id": "077ff8fe",
   "metadata": {
    "id": "1gUX8QzCj4d5",
    "papermill": {
     "duration": 0.017949,
     "end_time": "2024-11-12T19:38:10.013175",
     "exception": false,
     "start_time": "2024-11-12T19:38:09.995226",
     "status": "completed"
    },
    "tags": []
   },
   "source": [
    "### Explaining code\n",
    "\n",
    "The Gemini family of models can explain code to you too.\n",
    "\n",
    "<table align=left>\n",
    "  <td>\n",
    "    <a target=\"_blank\" href=\"https://aistudio.google.com/prompts/1N7LGzWzCYieyOf_7bAG4plrmkpDNmUyb\"><img src=\"https://ai.google.dev/site-assets/images/marketing/home/icon-ais.png\" style=\"height: 24px\" height=24/> Open in AI Studio</a>\n",
    "  </td>\n",
    "</table>"
   ]
  },
  {
   "cell_type": "code",
   "execution_count": 29,
   "id": "74b616c5",
   "metadata": {
    "execution": {
     "iopub.execute_input": "2024-11-12T19:38:10.049132Z",
     "iopub.status.busy": "2024-11-12T19:38:10.048481Z",
     "iopub.status.idle": "2024-11-12T19:38:13.184812Z",
     "shell.execute_reply": "2024-11-12T19:38:13.183460Z"
    },
    "id": "7_jPMMoxkIEb",
    "papermill": {
     "duration": 3.157662,
     "end_time": "2024-11-12T19:38:13.187671",
     "exception": false,
     "start_time": "2024-11-12T19:38:10.030009",
     "status": "completed"
    },
    "tags": []
   },
   "outputs": [
    {
     "data": {
      "text/markdown": [
       "This file is a Bash script called `bash-git-prompt` which is used to enhance your shell's prompt by providing information about the current Git repository you are working in. \n",
       "\n",
       "Here's why you'd use it:\n",
       "\n",
       "* **Git Status Display:** The script displays your current Git branch, upstream status (ahead/behind), changes (staged, conflicted, unstaged, untracked), and other information directly in your shell prompt. This provides a quick overview of your repository status without having to run `git status` manually.\n",
       "* **Customizable Prompt:** You can customize the prompt's appearance by changing the colors, symbols, and formatting through a configuration file. This includes choosing from a range of themes or creating your own custom theme.\n",
       "* **Virtual Environment Integration:** The script can integrate with virtual environments like `virtualenv`, `conda`, and `nvm`, adding their names to the prompt for easy identification.\n",
       "* **Improved User Experience:** The script streamlines your workflow by providing clear and concise Git status information in your shell, reducing the need for frequent `git status` checks.\n",
       "\n",
       "The script itself is a complex mix of functions, loops, and variable manipulations. Essentially, it does the following:\n",
       "\n",
       "1. **Loads color and theme settings:** It sources a `prompt-colors.sh` file for basic colors and a theme file (like `Default.bgptheme` or a custom one) for Git-specific prompt colors.\n",
       "2. **Determines Git repository status:** It uses Git commands to gather information about the current branch, upstream status, staged and unstaged changes, and other relevant data.\n",
       "3. **Formats the prompt:** It uses the collected Git information and configuration settings to build a formatted prompt string, including colors, symbols, and branch/status details.\n",
       "4. **Sets the prompt:** It updates the `PS1` shell variable with the formatted prompt string, which will be displayed in your terminal.\n",
       "5. **Integrates with other scripts:** It can optionally be used to install the prompt functionality as a part of your existing shell configuration. \n",
       "\n",
       "Overall, `bash-git-prompt` offers a powerful and customizable way to display your Git repository status directly within your shell prompt, enhancing your workflow and making it easier to stay informed about the state of your projects.\n"
      ],
      "text/plain": [
       "<IPython.core.display.Markdown object>"
      ]
     },
     "execution_count": 29,
     "metadata": {},
     "output_type": "execute_result"
    }
   ],
   "source": [
    "file_contents = !curl https://raw.githubusercontent.com/magicmonty/bash-git-prompt/refs/heads/master/gitprompt.sh\n",
    "\n",
    "explain_prompt = f\"\"\"\n",
    "Please explain what this file does at a very high level. What is it, and why would I use it?\n",
    "\n",
    "```\n",
    "{file_contents}\n",
    "```\n",
    "\"\"\"\n",
    "\n",
    "model = genai.GenerativeModel('gemini-1.5-flash-latest')\n",
    "\n",
    "response = model.generate_content(explain_prompt)\n",
    "Markdown(response.text)"
   ]
  },
  {
   "cell_type": "code",
   "execution_count": 30,
   "id": "ee164338",
   "metadata": {
    "execution": {
     "iopub.execute_input": "2024-11-12T19:38:13.224642Z",
     "iopub.status.busy": "2024-11-12T19:38:13.223697Z",
     "iopub.status.idle": "2024-11-12T19:38:15.906608Z",
     "shell.execute_reply": "2024-11-12T19:38:15.905229Z"
    },
    "papermill": {
     "duration": 2.703871,
     "end_time": "2024-11-12T19:38:15.909110",
     "exception": false,
     "start_time": "2024-11-12T19:38:13.205239",
     "status": "completed"
    },
    "tags": []
   },
   "outputs": [
    {
     "data": {
      "text/markdown": [
       "This code snippet is a Python script that performs shot detection on a video file. Here's a breakdown of what it does and why you might use it:\n",
       "\n",
       "**What it does:**\n",
       "\n",
       "1. **Imports libraries:** The code imports necessary libraries for video processing and shot detection:\n",
       "   - `scenedetect`: A Python library specifically for scene detection. \n",
       "   - `pickle`: A library for saving Python objects (in this case, the detected scenes) to a file.\n",
       "\n",
       "2. **Sets up video and scene managers:** It creates instances of `VideoManager` and `SceneManager` from the `scenedetect` library. The `VideoManager` handles the video file, and the `SceneManager` manages the scene detection process. \n",
       "\n",
       "3. **Sets a scene detector:** The code adds a `ContentDetector` to the `SceneManager`. This detector identifies scene changes based on content differences (e.g., significant changes in color or movement).\n",
       "\n",
       "4. **Downscales the video:** To speed up processing, the code downscales the video using a factor of 2. This reduces the resolution while preserving the essential content for shot detection.\n",
       "\n",
       "5. **Performs shot detection:** The code starts the `VideoManager` and then uses the `detect_scenes()` function to perform shot detection.\n",
       "\n",
       "6. **Gets and prints detected scenes:** The code retrieves the list of detected scenes and prints the start and end timecodes of each scene.\n",
       "\n",
       "7. **Saves the scene list:**  The detected scene list is saved to a file named \"scene_list.pkl\" using the `pickle` library.\n",
       "\n",
       "**Why you might use it:**\n",
       "\n",
       "* **Video editing:** This code can help you identify scene transitions in a video, making it easier to edit and cut your video into individual segments.\n",
       "* **Video analysis:**  You can use the detected scenes to analyze the video, such as identifying key moments, tracking changes in content, or studying the pacing of a film.\n",
       "* **Content indexing:**  By saving the scene list, you can quickly access specific parts of a video without having to manually browse through it.\n",
       "\n",
       "**Overall:** This code provides a basic implementation of shot detection using the `scenedetect` library. It's a useful starting point for projects involving video analysis and editing. \n"
      ],
      "text/plain": [
       "<IPython.core.display.Markdown object>"
      ]
     },
     "execution_count": 30,
     "metadata": {},
     "output_type": "execute_result"
    }
   ],
   "source": [
    "file_contents = !curl https://raw.githubusercontent.com/lasyaEd/matchCutting/main/shot_segmentation.py\n",
    "\n",
    "explain_prompt = f\"\"\"\n",
    "Please explain what this file does at a very high level. What is it, and why would I use it?\n",
    "\n",
    "```\n",
    "{file_contents}\n",
    "```\n",
    "\"\"\"\n",
    "\n",
    "model = genai.GenerativeModel('gemini-1.5-flash-latest')\n",
    "\n",
    "response = model.generate_content(explain_prompt)\n",
    "Markdown(response.text)"
   ]
  },
  {
   "cell_type": "code",
   "execution_count": 31,
   "id": "eff84385",
   "metadata": {
    "execution": {
     "iopub.execute_input": "2024-11-12T19:38:15.943593Z",
     "iopub.status.busy": "2024-11-12T19:38:15.943184Z",
     "iopub.status.idle": "2024-11-12T19:38:23.992698Z",
     "shell.execute_reply": "2024-11-12T19:38:23.991216Z"
    },
    "papermill": {
     "duration": 8.069999,
     "end_time": "2024-11-12T19:38:23.995367",
     "exception": false,
     "start_time": "2024-11-12T19:38:15.925368",
     "status": "completed"
    },
    "tags": []
   },
   "outputs": [
    {
     "name": "stdout",
     "output_type": "stream",
     "text": [
      "Explanation for shot_segmentation.py:\n",
      "\n"
     ]
    },
    {
     "data": {
      "text/markdown": [
       "This Python code snippet uses the `scenedetect` library to perform **shot segmentation** on a video file. Here's a breakdown of what it does and why you might use it:\n",
       "\n",
       "**What it does:**\n",
       "\n",
       "1. **Initialization:**\n",
       "   - Imports necessary libraries: `scenedetect` for video processing, `pickle` for saving data.\n",
       "   - Defines the path to the video file.\n",
       "   - Creates two managers:\n",
       "     - `VideoManager` to handle the video file.\n",
       "     - `SceneManager` to manage scene detection.\n",
       "   - Adds a `ContentDetector` to the `SceneManager`, which uses content-based analysis (changes in colors, edges, etc.) to find scene boundaries.\n",
       "   - Sets a downscale factor to reduce the video resolution for faster processing.\n",
       "\n",
       "2. **Shot Detection:**\n",
       "   - Starts the `VideoManager` to read the video.\n",
       "   - Uses the `detect_scenes()` function to find scene boundaries based on the `ContentDetector`.\n",
       "\n",
       "3. **Output and Saving:**\n",
       "   - Retrieves the list of detected scenes (shots) from the `SceneManager`.\n",
       "   - Prints the number of detected scenes and the start and end times of each scene.\n",
       "   - Saves the scene list to a file called `scene_list.pkl` using the `pickle` library.\n",
       "\n",
       "**Why you would use it:**\n",
       "\n",
       "- **Video Analysis:** Shot segmentation is a fundamental step in various video analysis tasks, including:\n",
       "    - **Content-based video indexing:** Organizing videos by shots for easier navigation and searching.\n",
       "    - **Video summarization:** Identifying key shots to create a concise overview of the video.\n",
       "    - **Object tracking:** Tracking objects across different shots.\n",
       "    - **Scene understanding:** Analyzing the content of individual shots to understand the narrative structure of the video.\n",
       "- **Automated Video Editing:** Automatically dividing videos into smaller segments (shots) for easier editing and manipulation.\n",
       "- **Video Surveillance:** Detecting unusual events or activities by analyzing changes in scenes.\n",
       "\n",
       "**In summary, this code takes a video file and uses `scenedetect` to identify individual shots (scenes). This information can then be used for various video analysis and processing tasks.** \n"
      ],
      "text/plain": [
       "<IPython.core.display.Markdown object>"
      ]
     },
     "metadata": {},
     "output_type": "display_data"
    },
    {
     "name": "stdout",
     "output_type": "stream",
     "text": [
      "\n",
      "--------------------------------------------------\n",
      "\n",
      "Explanation for deduplication.py:\n",
      "\n"
     ]
    },
    {
     "data": {
      "text/markdown": [
       "This Python script, 'deduplication.py', is designed to **identify and remove near-duplicate images** from a folder. It uses a pre-trained deep learning model (EfficientNet) to extract features from each image, calculates the similarity between these features using cosine similarity, and removes images deemed to be duplicates.\n",
       "\n",
       "Here's a breakdown:\n",
       "\n",
       "1. **Image Loading and Feature Extraction:**\n",
       "    - The script loads images from a specified folder ('scene_cuts').\n",
       "    - It uses a pre-trained EfficientNet model to extract feature vectors (embeddings) from each image. These embeddings represent the image's content in a numerical form.\n",
       "\n",
       "2. **Cosine Similarity Calculation:**\n",
       "    - The script calculates the cosine similarity between each pair of image embeddings. Cosine similarity measures how similar two vectors are in direction, with a score of 1 indicating perfect similarity and 0 indicating no similarity.\n",
       "\n",
       "3. **Duplicate Identification:**\n",
       "    - It sets a similarity threshold (0.9 in this case). If the cosine similarity between two images is greater than this threshold, they are considered near-duplicates.\n",
       "\n",
       "4. **Duplicate Removal:**\n",
       "    - The script identifies duplicate images and removes them from the folder.\n",
       "\n",
       "**Why you would use this script:**\n",
       "\n",
       "- **To clean up image datasets:** It helps remove redundant images that capture essentially the same content, making the dataset smaller and more manageable.\n",
       "- **To avoid storing unnecessary data:** This can be crucial when dealing with large image datasets, as it saves storage space and processing time.\n",
       "- **To improve the performance of downstream tasks:** Removing duplicates can improve the performance of tasks like object detection and image classification, which rely on high-quality and diverse training data.\n",
       "\n",
       "**Key Points:**\n",
       "\n",
       "- The script leverages a pre-trained deep learning model, making it efficient and effective for image feature extraction.\n",
       "- The cosine similarity metric is a standard method for measuring the similarity between vectors, making it suitable for image comparison.\n",
       "- The similarity threshold can be adjusted to control the sensitivity of the deduplication process.\n",
       "\n",
       "This script provides a basic implementation of image deduplication. It can be further enhanced by adding features like:\n",
       "\n",
       "- Handling different image formats (e.g., .png, .jpeg).\n",
       "- Adjusting the similarity threshold based on specific requirements.\n",
       "- Implementing more robust duplicate detection methods.\n"
      ],
      "text/plain": [
       "<IPython.core.display.Markdown object>"
      ]
     },
     "metadata": {},
     "output_type": "display_data"
    },
    {
     "name": "stdout",
     "output_type": "stream",
     "text": [
      "\n",
      "--------------------------------------------------\n",
      "\n",
      "Explanation for visualize_scene_cuts.py:\n",
      "\n"
     ]
    },
    {
     "data": {
      "text/markdown": [
       "This Python script, `visualize_scene_cuts.py`, takes a video file and a pre-determined list of scene boundaries (presumably generated by a shot segmentation algorithm) and creates a series of images representing the middle frame of each scene. \n",
       "\n",
       "Here's a breakdown of its purpose and why you might use it:\n",
       "\n",
       "**What it does:**\n",
       "\n",
       "1. **Loads Scene Boundaries:** The script reads a file named `scene_list.pkl`, which contains a list of scene boundaries. Each boundary is likely represented as a pair of frames marking the start and end of a scene.\n",
       "2. **Opens Video File:** It opens the specified video file (`ToKillAMockingBird.mp4` in this example) using OpenCV.\n",
       "3. **Extracts Middle Frames:** For each scene in the `scene_list`, the script calculates the middle frame and seeks to that position within the video. It then reads the frame and saves it as an image in the `scene_cuts` folder.\n",
       "4. **Saves Images:**  Each extracted middle frame is saved with a filename indicating the scene number (e.g., `scene_0_middle_frame.jpg`, `scene_1_middle_frame.jpg`, etc.).\n",
       "\n",
       "**Why you'd use it:**\n",
       "\n",
       "* **Scene Visualization:** This script provides a simple way to visualize the scene boundaries identified by a shot segmentation algorithm. By looking at the images, you can quickly assess how well the algorithm performed.\n",
       "* **Video Editing & Analysis:** The extracted middle frames can be used for various video editing and analysis tasks:\n",
       "    * **Scene Selection:** You could use these images to quickly select representative frames from each scene.\n",
       "    * **Thumbnail Generation:** The images can be used as thumbnails for a video player, providing viewers with a quick overview of the video's content.\n",
       "    * **Scene-Based Analysis:** You might analyze the middle frames to extract features (color, objects, etc.) specific to each scene.\n",
       "\n",
       "**In essence, this script acts as a simple visualization tool that bridges the gap between a scene segmentation algorithm and a visual representation of the identified scenes.** \n"
      ],
      "text/plain": [
       "<IPython.core.display.Markdown object>"
      ]
     },
     "metadata": {},
     "output_type": "display_data"
    },
    {
     "name": "stdout",
     "output_type": "stream",
     "text": [
      "\n",
      "--------------------------------------------------\n",
      "\n"
     ]
    }
   ],
   "source": [
    "import subprocess\n",
    "# List of URLs for multiple .py files\n",
    "file_urls = [\n",
    "    \"https://raw.githubusercontent.com/lasyaEd/matchCutting/main/shot_segmentation.py\",\n",
    "    \"https://raw.githubusercontent.com/lasyaEd/matchCutting/main/deduplication.py\",\n",
    "    \"https://raw.githubusercontent.com/lasyaEd/matchCutting/main/visualize_scene_cuts.py\"\n",
    "]\n",
    "\n",
    "# Dictionary to store file contents\n",
    "file_contents = {}\n",
    "\n",
    "# Loop to fetch each file's content\n",
    "for url in file_urls:\n",
    "    filename = url.split(\"/\")[-1]  # Extract the file name from the URL\n",
    "    result = subprocess.run([\"curl\", url], capture_output=True, text=True)  # Run curl command\n",
    "    content = result.stdout  # Get the file content\n",
    "    file_contents[filename] = content  # Store content in the dictionary\n",
    "\n",
    "# Generate explanations for each file\n",
    "for filename, content in file_contents.items():\n",
    "    explain_prompt = f\"\"\"\n",
    "    Please explain what the file '{filename}' does at a very high level. What is it, and why would I use it?\n",
    "\n",
    "    ```\n",
    "    {content}\n",
    "    ```\n",
    "    \"\"\"\n",
    "    \n",
    "    # Generate explanation using the model\n",
    "    model = genai.GenerativeModel('gemini-1.5-flash-latest')\n",
    "    response = model.generate_content(explain_prompt)\n",
    "    print(f\"Explanation for {filename}:\\n\")\n",
    "    display(Markdown(response.text))\n",
    "    print(\"\\n\" + \"-\"*50 + \"\\n\")  # Separator for readability\n"
   ]
  },
  {
   "cell_type": "markdown",
   "id": "70230627",
   "metadata": {
    "id": "2a8266d97ce5",
    "papermill": {
     "duration": 0.018115,
     "end_time": "2024-11-12T19:38:24.034468",
     "exception": false,
     "start_time": "2024-11-12T19:38:24.016353",
     "status": "completed"
    },
    "tags": []
   },
   "source": [
    "## Learn more\n",
    "\n",
    "To learn more about prompting in depth:\n",
    "\n",
    "* Check out the whitepaper issued with today's content,\n",
    "* Try out the apps listed at the top of this notebook ([TextFX](https://textfx.withgoogle.com/), [SQL Talk](https://sql-talk-r5gdynozbq-uc.a.run.app/) and [NotebookLM](https://notebooklm.google/)),\n",
    "* Read the [Introduction to Prompting](https://ai.google.dev/gemini-api/docs/prompting-intro) from the Gemini API docs,\n",
    "* Explore the Gemini API's [prompt gallery](https://ai.google.dev/gemini-api/prompts) and try them out in AI Studio,\n",
    "* Check out the Gemini API cookbook for [inspirational examples](https://github.com/google-gemini/cookbook/blob/main/examples/) and [educational quickstarts](https://github.com/google-gemini/cookbook/blob/main/quickstarts/).\n",
    "\n",
    "And please share anything exciting you have tried in the Discord!"
   ]
  }
 ],
 "metadata": {
  "colab": {
   "name": "day-1-prompting.ipynb",
   "toc_visible": true
  },
  "kaggle": {
   "accelerator": "none",
   "dataSources": [],
   "dockerImageVersionId": 30786,
   "isGpuEnabled": false,
   "isInternetEnabled": true,
   "language": "python",
   "sourceType": "notebook"
  },
  "kernelspec": {
   "display_name": "Python 3",
   "language": "python",
   "name": "python3"
  },
  "language_info": {
   "codemirror_mode": {
    "name": "ipython",
    "version": 3
   },
   "file_extension": ".py",
   "mimetype": "text/x-python",
   "name": "python",
   "nbconvert_exporter": "python",
   "pygments_lexer": "ipython3",
   "version": "3.10.14"
  },
  "papermill": {
   "default_parameters": {},
   "duration": 171.125051,
   "end_time": "2024-11-12T19:38:24.677051",
   "environment_variables": {},
   "exception": null,
   "input_path": "__notebook__.ipynb",
   "output_path": "__notebook__.ipynb",
   "parameters": {},
   "start_time": "2024-11-12T19:35:33.552000",
   "version": "2.6.0"
  }
 },
 "nbformat": 4,
 "nbformat_minor": 5
}
